{
  "nbformat": 4,
  "nbformat_minor": 0,
  "metadata": {
    "colab": {
      "provenance": []
    },
    "kernelspec": {
      "name": "python3",
      "display_name": "Python 3"
    },
    "language_info": {
      "name": "python"
    }
  },
  "cells": [
    {
      "cell_type": "code",
      "execution_count": 9,
      "metadata": {
        "colab": {
          "base_uri": "https://localhost:8080/"
        },
        "id": "gcAIoEOGqlqZ",
        "outputId": "a733ff5e-87b0-4c5a-e289-fa0d54106c8e"
      },
      "outputs": [
        {
          "output_type": "stream",
          "name": "stdout",
          "text": [
            "聖誕樹層數:9\n",
            "         *         \n",
            "        ***        \n",
            "       *****       \n",
            "      *******      \n",
            "     *********     \n",
            "    ***********    \n",
            "   *************   \n",
            "  ***************  \n",
            " ***************** \n",
            "        ***        \n",
            "        ***        \n",
            "        ***        \n",
            "        ***        \n",
            "        ***        \n"
          ]
        }
      ],
      "source": [
        "def tree(h):\n",
        "  s='*'\n",
        "  b=' '\n",
        "  for i in range(1,h+1):\n",
        "    a=(2*i-1)*s\n",
        "    w=h-i\n",
        "    t=w*b\n",
        "    print(t,a,t)\n",
        "  for i in range(1,6):\n",
        "    w=3*s\n",
        "    p=h-2\n",
        "    q=p*b\n",
        "    print(q,w,q)\n",
        "h=int(input(\"聖誕樹層數:\"))\n",
        "tree(h)\n",
        "\n"
      ]
    },
    {
      "cell_type": "code",
      "source": [
        "def bmi(a,c):\n",
        "  b=a/100\n",
        "  d=b**2\n",
        "  e=c/d\n",
        "  if e>=27:\n",
        "    p='體位:肥胖'\n",
        "  elif 24<=e and e<27:\n",
        "    p='體位:過重'\n",
        "  elif 18.5<=e and e<24:\n",
        "    p='體位:適中'\n",
        "  else:\n",
        "    p='體位:過輕'\n",
        "  return e,p\n",
        "try:\n",
        "  a=int(input('請輸入身高（公分）：'))\n",
        "  c=int(input('請輸入體重（公斤）：'))\n",
        "  e,p=bmi(a,c)\n",
        "  print('BMI;',e)\n",
        "  print(p)\n",
        "except:\n",
        "  print(\"輸入內容錯誤\")"
      ],
      "metadata": {
        "colab": {
          "base_uri": "https://localhost:8080/"
        },
        "id": "m2rnA02Byctd",
        "outputId": "0c46ddf1-a39b-44b0-ed87-995ad2aed456"
      },
      "execution_count": 13,
      "outputs": [
        {
          "output_type": "stream",
          "name": "stdout",
          "text": [
            "請輸入身高（公分）：155\n",
            "請輸入體重（公斤）：55\n",
            "BMI; 22.892819979188342\n",
            "體位:適中\n"
          ]
        }
      ]
    }
  ]
}